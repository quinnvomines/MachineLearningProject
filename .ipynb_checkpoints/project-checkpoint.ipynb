{
 "cells": [
  {
   "cell_type": "markdown",
   "metadata": {},
   "source": [
    "# CSCI 470: Machine Learning, Section B\n",
    "### Preston Walraven, Quinn Vo, Noah Honetschlager"
   ]
  },
  {
   "cell_type": "code",
   "execution_count": 1,
   "metadata": {},
   "outputs": [],
   "source": [
    "import matplotlib.pyplot as plt\n",
    "from itertools import cycle\n",
    "import numpy as np\n",
    "import pandas as pd\n",
    "import sklearn as sk\n",
    "from sklearn.model_selection import train_test_split\n",
    "from sklearn.linear_model import lasso_path, enet_path\n",
    "\n",
    "%matplotlib inline\n",
    "plt.style.use(\"ggplot\")"
   ]
  },
  {
   "cell_type": "code",
   "execution_count": 2,
   "metadata": {},
   "outputs": [
    {
     "name": "stdout",
     "output_type": "stream",
     "text": [
      "<class 'pandas.core.frame.DataFrame'>\n",
      "RangeIndex: 2935849 entries, 0 to 2935848\n",
      "Data columns (total 6 columns):\n",
      " #   Column          Dtype  \n",
      "---  ------          -----  \n",
      " 0   date            object \n",
      " 1   date_block_num  int64  \n",
      " 2   shop_id         int64  \n",
      " 3   item_id         int64  \n",
      " 4   item_price      float64\n",
      " 5   item_cnt_day    float64\n",
      "dtypes: float64(2), int64(3), object(1)\n",
      "memory usage: 134.4+ MB\n",
      "\n",
      "<class 'pandas.core.frame.DataFrame'>\n",
      "RangeIndex: 214200 entries, 0 to 214199\n",
      "Data columns (total 3 columns):\n",
      " #   Column   Non-Null Count   Dtype\n",
      "---  ------   --------------   -----\n",
      " 0   ID       214200 non-null  int64\n",
      " 1   shop_id  214200 non-null  int64\n",
      " 2   item_id  214200 non-null  int64\n",
      "dtypes: int64(3)\n",
      "memory usage: 4.9 MB\n"
     ]
    }
   ],
   "source": [
    "sd = pd.read_csv('data/sales_train.csv')\n",
    "ID_table = pd.read_csv('data/test.csv')\n",
    "\n",
    "sd.info()\n",
    "print()\n",
    "ID_table.info()"
   ]
  },
  {
   "cell_type": "markdown",
   "metadata": {},
   "source": [
    "### Data Preprocessing/Cleaning\n",
    "\n",
    "Here, we want to do some preprocessing to cleanup our data to be used in our models. We will start by stripping out the date_block_num, shop_id, item_id, and item_cnt_day columns. Then, the sum of items sold for a particular shop_id/item_id (known as an ID) will be summed up for each month."
   ]
  },
  {
   "cell_type": "code",
   "execution_count": 3,
   "metadata": {},
   "outputs": [
    {
     "name": "stdout",
     "output_type": "stream",
     "text": [
      "                item_cnt_day                                                \\\n",
      "date_block_num            0     1    2    3    4    5    6    7    8    9    \n",
      "shop_id item_id                                                              \n",
      "0       30               0.0  31.0  0.0  0.0  0.0  0.0  0.0  0.0  0.0  0.0   \n",
      "        31               0.0  11.0  0.0  0.0  0.0  0.0  0.0  0.0  0.0  0.0   \n",
      "        32               6.0  10.0  0.0  0.0  0.0  0.0  0.0  0.0  0.0  0.0   \n",
      "        33               3.0   3.0  0.0  0.0  0.0  0.0  0.0  0.0  0.0  0.0   \n",
      "        35               1.0  14.0  0.0  0.0  0.0  0.0  0.0  0.0  0.0  0.0   \n",
      "...                      ...   ...  ...  ...  ...  ...  ...  ...  ...  ...   \n",
      "59      22154            1.0   0.0  0.0  0.0  0.0  0.0  0.0  0.0  0.0  0.0   \n",
      "        22155            0.0   0.0  0.0  0.0  0.0  0.0  1.0  0.0  0.0  0.0   \n",
      "        22162            0.0   0.0  0.0  0.0  0.0  0.0  0.0  0.0  0.0  0.0   \n",
      "        22164            0.0   0.0  0.0  0.0  0.0  0.0  0.0  0.0  0.0  0.0   \n",
      "        22167            0.0   0.0  0.0  0.0  0.0  0.0  0.0  0.0  0.0  1.0   \n",
      "\n",
      "                 ...                                                    \n",
      "date_block_num   ...   24   25   26   27   28   29   30   31   32   33  \n",
      "shop_id item_id  ...                                                    \n",
      "0       30       ...  0.0  0.0  0.0  0.0  0.0  0.0  0.0  0.0  0.0  0.0  \n",
      "        31       ...  0.0  0.0  0.0  0.0  0.0  0.0  0.0  0.0  0.0  0.0  \n",
      "        32       ...  0.0  0.0  0.0  0.0  0.0  0.0  0.0  0.0  0.0  0.0  \n",
      "        33       ...  0.0  0.0  0.0  0.0  0.0  0.0  0.0  0.0  0.0  0.0  \n",
      "        35       ...  0.0  0.0  0.0  0.0  0.0  0.0  0.0  0.0  0.0  0.0  \n",
      "...              ...  ...  ...  ...  ...  ...  ...  ...  ...  ...  ...  \n",
      "59      22154    ...  0.0  0.0  0.0  0.0  0.0  0.0  0.0  0.0  0.0  0.0  \n",
      "        22155    ...  0.0  0.0  0.0  0.0  0.0  0.0  0.0  0.0  0.0  0.0  \n",
      "        22162    ...  0.0  9.0  4.0  1.0  1.0  0.0  0.0  1.0  0.0  0.0  \n",
      "        22164    ...  0.0  2.0  1.0  2.0  0.0  0.0  1.0  0.0  0.0  0.0  \n",
      "        22167    ...  0.0  0.0  0.0  0.0  0.0  0.0  0.0  0.0  0.0  0.0  \n",
      "\n",
      "[424124 rows x 34 columns]\n"
     ]
    }
   ],
   "source": [
    "# strip unnecessary columns\n",
    "sd.drop(columns=[\"date\", \"item_price\"], inplace=True)\n",
    "\n",
    "# this gives us a table to identify the number of items sold at a particular shop/item for each month\n",
    "sd_pt = pd.pivot_table(sd, index=['shop_id','item_id'], values=['item_cnt_day'], columns=['date_block_num'], aggfunc=np.sum)\n",
    "\n",
    "# fill in NaNs (no sales for that item for that particular month)\n",
    "sd_pt.fillna(0, inplace=True)\n",
    "\n",
    "# # merge to organize by ID (made up of shop_id and item_id)\n",
    "# sd_ID = pd.merge(ID_table, sd_pt, on=['shop_id', 'item_id'], how='left')\n",
    "\n",
    "# # drop shop_id and item_id now because the ID describes them, and ID is the same as index\n",
    "# sd_ID.drop(columns=[\"shop_id\", \"item_id\", \"ID\"], inplace=True)\n",
    "\n",
    "# # display result\n",
    "# sd_ID\n",
    "print(sd_pt)"
   ]
  },
  {
   "cell_type": "code",
   "execution_count": 4,
   "metadata": {},
   "outputs": [
    {
     "name": "stdout",
     "output_type": "stream",
     "text": [
      "All Data:               (424124, 34)\n",
      "Training data (X, y):   (339299, 33), (339299,)\n",
      "Training data (X, y):   (84825, 33), (84825,)\n"
     ]
    }
   ],
   "source": [
    "# split our sample data for training\n",
    "X_train, X_test, y_train, y_test = train_test_split(sd_pt.iloc[:,0:33], sd_pt.iloc[:,33], test_size=0.2)\n",
    "\n",
    "print(f\"All Data:               {sd_pt.shape}\")\n",
    "print(f\"Training data (X, y):   {X_train.shape}, {y_train.shape}\")\n",
    "print(f\"Training data (X, y):   {X_test.shape}, {y_test.shape}\")"
   ]
  },
  {
   "cell_type": "code",
   "execution_count": 5,
   "metadata": {},
   "outputs": [],
   "source": [
    "import sklearn as sk\n",
    "from sklearn import linear_model\n",
    "import sklearn.neighbors\n",
    "import sklearn.metrics\n",
    "import math"
   ]
  },
  {
   "cell_type": "code",
   "execution_count": 6,
   "metadata": {},
   "outputs": [
    {
     "name": "stdout",
     "output_type": "stream",
     "text": [
      "2.7656252214997874\n"
     ]
    }
   ],
   "source": [
    "clf = sk.linear_model.LinearRegression()\n",
    "\n",
    "clf.fit(X_train,y_train)\n",
    "predictions = clf.predict(X_test)\n",
    "rsme_val = math.sqrt(sk.metrics.mean_squared_error(y_test, predictions))\n",
    "\n",
    "print(rsme_val)"
   ]
  },
  {
   "cell_type": "code",
   "execution_count": 7,
   "metadata": {},
   "outputs": [
    {
     "name": "stdout",
     "output_type": "stream",
     "text": [
      "2.438166063535614\n"
     ]
    }
   ],
   "source": [
    "clf = sk.linear_model.Lasso(alpha=0.1)\n",
    "\n",
    "clf.fit(X_train,y_train)\n",
    "predictions = clf.predict(X_test)\n",
    "rsme_val = math.sqrt(sk.metrics.mean_squared_error(y_test, predictions))\n",
    "\n",
    "print(rsme_val)"
   ]
  },
  {
   "cell_type": "code",
   "execution_count": 8,
   "metadata": {},
   "outputs": [
    {
     "name": "stdout",
     "output_type": "stream",
     "text": [
      "2.765624950742276\n"
     ]
    }
   ],
   "source": [
    "clf = sk.linear_model.Ridge(alpha=0.1)\n",
    "\n",
    "clf.fit(X_train,y_train)\n",
    "predictions = clf.predict(X_test)\n",
    "rsme_val = math.sqrt(sk.metrics.mean_squared_error(y_test, predictions))\n",
    "\n",
    "print(rsme_val)"
   ]
  },
  {
   "cell_type": "code",
   "execution_count": 9,
   "metadata": {},
   "outputs": [
    {
     "name": "stdout",
     "output_type": "stream",
     "text": [
      "2.742626320060467\n"
     ]
    }
   ],
   "source": [
    "clf = sk.linear_model.ElasticNet(alpha=0.01)\n",
    "\n",
    "clf.fit(X_train,y_train)\n",
    "predictions = clf.predict(X_test)\n",
    "rsme_val = math.sqrt(sk.metrics.mean_squared_error(y_test, predictions))\n",
    "\n",
    "print(rsme_val)"
   ]
  },
  {
   "cell_type": "code",
   "execution_count": 10,
   "metadata": {},
   "outputs": [
    {
     "name": "stdout",
     "output_type": "stream",
     "text": [
      "[0.00617016 0.00617016 0.00617016 ... 1.57795488 0.24819312 0.68530812]\n"
     ]
    }
   ],
   "source": [
    "#Make predictions for November 2015\n",
    "X_train = sd_pt.iloc[:,0:33]\n",
    "y_train = sd_pt.iloc[:,33]\n",
    "X_test = sd_pt.iloc[:,1:34]\n",
    "\n",
    "clf = sk.linear_model.Lasso(alpha=0.1)\n",
    "\n",
    "clf.fit(X_train,y_train)\n",
    "predictions = clf.predict(X_test)\n",
    "\n",
    "print(predictions)"
   ]
  },
  {
   "cell_type": "code",
   "execution_count": 11,
   "metadata": {},
   "outputs": [],
   "source": [
    "sd_pt[('item_cnt_day', 34)] = predictions"
   ]
  },
  {
   "cell_type": "code",
   "execution_count": 12,
   "metadata": {},
   "outputs": [
    {
     "name": "stdout",
     "output_type": "stream",
     "text": [
      "                item_cnt_day                                                \\\n",
      "date_block_num            0     1    2    3    4    5    6    7    8    9    \n",
      "shop_id item_id                                                              \n",
      "0       30               0.0  31.0  0.0  0.0  0.0  0.0  0.0  0.0  0.0  0.0   \n",
      "        31               0.0  11.0  0.0  0.0  0.0  0.0  0.0  0.0  0.0  0.0   \n",
      "        32               6.0  10.0  0.0  0.0  0.0  0.0  0.0  0.0  0.0  0.0   \n",
      "        33               3.0   3.0  0.0  0.0  0.0  0.0  0.0  0.0  0.0  0.0   \n",
      "        35               1.0  14.0  0.0  0.0  0.0  0.0  0.0  0.0  0.0  0.0   \n",
      "...                      ...   ...  ...  ...  ...  ...  ...  ...  ...  ...   \n",
      "59      22154            1.0   0.0  0.0  0.0  0.0  0.0  0.0  0.0  0.0  0.0   \n",
      "        22155            0.0   0.0  0.0  0.0  0.0  0.0  1.0  0.0  0.0  0.0   \n",
      "        22162            0.0   0.0  0.0  0.0  0.0  0.0  0.0  0.0  0.0  0.0   \n",
      "        22164            0.0   0.0  0.0  0.0  0.0  0.0  0.0  0.0  0.0  0.0   \n",
      "        22167            0.0   0.0  0.0  0.0  0.0  0.0  0.0  0.0  0.0  1.0   \n",
      "\n",
      "                 ...                                                         \n",
      "date_block_num   ...   25   26   27   28   29   30   31   32   33        34  \n",
      "shop_id item_id  ...                                                         \n",
      "0       30       ...  0.0  0.0  0.0  0.0  0.0  0.0  0.0  0.0  0.0  0.006170  \n",
      "        31       ...  0.0  0.0  0.0  0.0  0.0  0.0  0.0  0.0  0.0  0.006170  \n",
      "        32       ...  0.0  0.0  0.0  0.0  0.0  0.0  0.0  0.0  0.0  0.006170  \n",
      "        33       ...  0.0  0.0  0.0  0.0  0.0  0.0  0.0  0.0  0.0  0.006170  \n",
      "        35       ...  0.0  0.0  0.0  0.0  0.0  0.0  0.0  0.0  0.0  0.006170  \n",
      "...              ...  ...  ...  ...  ...  ...  ...  ...  ...  ...       ...  \n",
      "59      22154    ...  0.0  0.0  0.0  0.0  0.0  0.0  0.0  0.0  0.0  0.006170  \n",
      "        22155    ...  0.0  0.0  0.0  0.0  0.0  0.0  0.0  0.0  0.0  0.006170  \n",
      "        22162    ...  9.0  4.0  1.0  1.0  0.0  0.0  1.0  0.0  0.0  1.577955  \n",
      "        22164    ...  2.0  1.0  2.0  0.0  0.0  1.0  0.0  0.0  0.0  0.248193  \n",
      "        22167    ...  0.0  0.0  0.0  0.0  0.0  0.0  0.0  0.0  0.0  0.685308  \n",
      "\n",
      "[424124 rows x 35 columns]\n"
     ]
    }
   ],
   "source": [
    "print(sd_pt)"
   ]
  },
  {
   "cell_type": "code",
   "execution_count": 15,
   "metadata": {},
   "outputs": [
    {
     "name": "stderr",
     "output_type": "stream",
     "text": [
      "C:\\Users\\quinn\\anaconda3\\lib\\site-packages\\pandas\\core\\reshape\\merge.py:648: UserWarning: merging between different levels can give an unintended result (1 levels on the left,2 on the right)\n",
      "  warnings.warn(msg, UserWarning)\n"
     ]
    },
    {
     "name": "stdout",
     "output_type": "stream",
     "text": [
      "            ID  item_cnt_month\n",
      "0            0        2.190092\n",
      "1            1        0.107901\n",
      "2            2        1.629522\n",
      "3            3        0.586945\n",
      "4            4        0.107901\n",
      "...        ...             ...\n",
      "214195  214195        0.192128\n",
      "214196  214196        0.107901\n",
      "214197  214197        0.049601\n",
      "214198  214198        0.107901\n",
      "214199  214199        0.023030\n",
      "\n",
      "[214200 rows x 2 columns]\n"
     ]
    }
   ],
   "source": [
    "# # merge to organize by ID (made up of shop_id and item_id)\n",
    "sd_ID = pd.merge(ID_table, sd_pt, on=['shop_id', 'item_id'], how='left')\n",
    "\n",
    "# # drop shop_id and item_id now because the ID describes them, and ID is the same as index\n",
    "# sd_ID.drop(columns=[\"shop_id\", \"item_id\", \"ID\"], inplace=True)\n",
    "\n",
    "for i in range(0, 34):\n",
    "    sd_ID.drop(columns=[('item_cnt_day', i)], inplace=True)\n",
    "\n",
    "#Fill NaN values\n",
    "sd_ID.fillna(np.nanmedian(sd_ID[('item_cnt_day', 34)]), inplace=True)\n",
    "\n",
    "#Rename column\n",
    "sd_ID.rename(columns={('item_cnt_day', 34) : 'item_cnt_month'}, inplace=True)\n",
    "\n",
    "#Save copy\n",
    "sd_copy = sd_ID.copy()\n",
    "\n",
    "#Drop columns for submission\n",
    "sd_ID.drop(columns=['shop_id', 'item_id'], inplace=True)\n",
    "\n",
    "print(sd_ID)"
   ]
  },
  {
   "cell_type": "code",
   "execution_count": 16,
   "metadata": {},
   "outputs": [
    {
     "name": "stdout",
     "output_type": "stream",
     "text": [
      "0\n"
     ]
    }
   ],
   "source": [
    "print(sd_ID['item_cnt_month'].isna().sum())"
   ]
  },
  {
   "cell_type": "code",
   "execution_count": 17,
   "metadata": {},
   "outputs": [],
   "source": [
    "sd_ID.to_csv('submission.csv', index = False)"
   ]
  },
  {
   "cell_type": "code",
   "execution_count": 18,
   "metadata": {},
   "outputs": [
    {
     "name": "stdout",
     "output_type": "stream",
     "text": [
      "            ID  shop_id  item_id  item_cnt_month\n",
      "0            0        5     5037        2.190092\n",
      "1            1        5     5320        0.107901\n",
      "2            2        5     5233        1.629522\n",
      "3            3        5     5232        0.586945\n",
      "4            4        5     5268        0.107901\n",
      "...        ...      ...      ...             ...\n",
      "214195  214195       45    18454        0.192128\n",
      "214196  214196       45    16188        0.107901\n",
      "214197  214197       45    15757        0.049601\n",
      "214198  214198       45    19648        0.107901\n",
      "214199  214199       45      969        0.023030\n",
      "\n",
      "[214200 rows x 4 columns]\n"
     ]
    }
   ],
   "source": [
    "print(sd_copy)"
   ]
  },
  {
   "cell_type": "code",
   "execution_count": 23,
   "metadata": {},
   "outputs": [
    {
     "name": "stdout",
     "output_type": "stream",
     "text": [
      "Enter a shop_id: \n",
      "-1\n",
      "Enter an item_id: \n",
      "-1\n",
      "\n",
      "Choose another shop_id, item_id that exists in the test.csv file!\n"
     ]
    }
   ],
   "source": [
    "#User interface\n",
    "shop_id = int(input('Enter a shop_id: \\n'))\n",
    "item_id = int(input('Enter an item_id: \\n'))\n",
    "\n",
    "pred_num = sd_copy.loc[(sd_copy['shop_id'] == shop_id) & (sd_copy['item_id'] == item_id)]\n",
    "\n",
    "if(pred_num.empty):\n",
    "    print('\\nChoose another shop_id, item_id that exists in the test.csv file!')\n",
    "else:\n",
    "    print('\\nThe predicted number of products sold for November 2015 is')\n",
    "    print(pred_num.iloc[0]['item_cnt_month'])"
   ]
  },
  {
   "cell_type": "code",
   "execution_count": null,
   "metadata": {},
   "outputs": [],
   "source": []
  }
 ],
 "metadata": {
  "interpreter": {
   "hash": "916dbcbb3f70747c44a77c7bcd40155683ae19c65e1c03b4aa3499c5328201f1"
  },
  "kernelspec": {
   "display_name": "Python 3",
   "language": "python",
   "name": "python3"
  },
  "language_info": {
   "codemirror_mode": {
    "name": "ipython",
    "version": 3
   },
   "file_extension": ".py",
   "mimetype": "text/x-python",
   "name": "python",
   "nbconvert_exporter": "python",
   "pygments_lexer": "ipython3",
   "version": "3.8.8"
  }
 },
 "nbformat": 4,
 "nbformat_minor": 2
}
